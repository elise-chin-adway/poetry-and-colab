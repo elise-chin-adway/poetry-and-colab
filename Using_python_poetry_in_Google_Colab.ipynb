{
  "nbformat": 4,
  "nbformat_minor": 0,
  "metadata": {
    "colab": {
      "provenance": [],
      "toc_visible": true,
      "authorship_tag": "ABX9TyNEOcF8P9K0xUda/BS4YZEZ",
      "include_colab_link": true
    },
    "kernelspec": {
      "name": "python3",
      "display_name": "Python 3"
    },
    "language_info": {
      "name": "python"
    }
  },
  "cells": [
    {
      "cell_type": "markdown",
      "metadata": {
        "id": "view-in-github",
        "colab_type": "text"
      },
      "source": [
        "<a href=\"https://colab.research.google.com/github/elise-chin-adway/poetry-and-colab/blob/main/Using_python_poetry_in_Google_Colab.ipynb\" target=\"_parent\"><img src=\"https://colab.research.google.com/assets/colab-badge.svg\" alt=\"Open In Colab\"/></a>"
      ]
    },
    {
      "cell_type": "markdown",
      "source": [
        "# Using `poetry` in Colab\n"
      ],
      "metadata": {
        "id": "bQOhcC-dmuFv"
      }
    },
    {
      "cell_type": "code",
      "execution_count": 1,
      "metadata": {
        "colab": {
          "base_uri": "https://localhost:8080/"
        },
        "id": "vHNnaVgjLTi2",
        "outputId": "7b470724-9903-4465-b7aa-ab3a76ffe28e"
      },
      "outputs": [
        {
          "output_type": "stream",
          "name": "stdout",
          "text": [
            "Mounted at /content/gdrive\n"
          ]
        }
      ],
      "source": [
        "from google.colab import drive\n",
        "drive.mount(\"/content/gdrive\")"
      ]
    },
    {
      "cell_type": "markdown",
      "source": [
        "## 1. Creating your own poetry project\n",
        "---\n",
        "\n"
      ],
      "metadata": {
        "id": "qJcjPHZGFAh4"
      }
    },
    {
      "cell_type": "markdown",
      "source": [
        "### 1.1 Create the test directory on Drive"
      ],
      "metadata": {
        "id": "E0fVeGsLm2UE"
      }
    },
    {
      "cell_type": "code",
      "source": [
        "# Move in your Drive\n",
        "%cd /content/gdrive/MyDrive/"
      ],
      "metadata": {
        "id": "gpS82OFKLzt4",
        "colab": {
          "base_uri": "https://localhost:8080/"
        },
        "outputId": "f9dd74d7-d79f-4405-b04e-3d9f0e62937d"
      },
      "execution_count": 2,
      "outputs": [
        {
          "output_type": "stream",
          "name": "stdout",
          "text": [
            "/content/gdrive/MyDrive\n"
          ]
        }
      ]
    },
    {
      "cell_type": "code",
      "source": [
        "# Create and move in the new project directory\n",
        "!rm -rf test-poetry\n",
        "!mkdir test-poetry\n",
        "%cd test-poetry"
      ],
      "metadata": {
        "colab": {
          "base_uri": "https://localhost:8080/"
        },
        "id": "ac_gJaM0lX1H",
        "outputId": "c1a4880c-e4b0-4e18-9067-524a18b8966f"
      },
      "execution_count": 3,
      "outputs": [
        {
          "output_type": "stream",
          "name": "stdout",
          "text": [
            "/content/gdrive/MyDrive/test-poetry\n"
          ]
        }
      ]
    },
    {
      "cell_type": "markdown",
      "source": [
        "### 1.2 Install `poetry` "
      ],
      "metadata": {
        "id": "Vuh83_ltGnN4"
      }
    },
    {
      "cell_type": "code",
      "source": [
        "# Install poetry from pip\n",
        "!pip install poetry"
      ],
      "metadata": {
        "id": "mxxpyUXEGmRe"
      },
      "execution_count": null,
      "outputs": []
    },
    {
      "cell_type": "code",
      "source": [
        "# Configure poetry not to create virtual environments in the project folder\n",
        "!poetry config virtualenvs.in-project false"
      ],
      "metadata": {
        "id": "3sNSIT0eKHIY"
      },
      "execution_count": 5,
      "outputs": []
    },
    {
      "cell_type": "markdown",
      "source": [
        "Since it is a new project, we need to initialize it with `poetry`. Run `poetry init` and do not specify any dependencies. We will do it later."
      ],
      "metadata": {
        "id": "5qYT3jyCC90M"
      }
    },
    {
      "cell_type": "code",
      "source": [
        "# Create the pyproject.toml file\n",
        "!poetry init"
      ],
      "metadata": {
        "id": "rDHrabJ3M-Gk",
        "colab": {
          "base_uri": "https://localhost:8080/"
        },
        "outputId": "2681df93-3abf-4596-fe32-8baaa6d66945"
      },
      "execution_count": 6,
      "outputs": [
        {
          "output_type": "stream",
          "name": "stdout",
          "text": [
            "\n",
            "This command will guide you through creating your \u001b[34mpyproject.toml\u001b[39m config.\n",
            "\n",
            "\u001b[36mPackage name [\u001b[39m\u001b[32mtest-poetry\u001b[39m\u001b[36m]: \u001b[39m \n",
            "\u001b[36mVersion [\u001b[39m\u001b[32m0.1.0\u001b[39m\u001b[36m]: \u001b[39m \n",
            "\u001b[36mDescription []: \u001b[39m \n",
            "\u001b[36mAuthor [\u001b[39m\u001b[32mNone\u001b[39m\u001b[36m, n to skip]: \u001b[39m Elise\n",
            "\u001b[36mLicense []: \u001b[39m \n",
            "\u001b[36mCompatible Python versions [\u001b[39m\u001b[32m^3.8\u001b[39m\u001b[36m]: \u001b[39m \n",
            "\n",
            "\u001b[36mWould you like to define your main dependencies interactively? (yes/no)\u001b[39m [\u001b[32myes\u001b[39m] no\n",
            "\u001b[36mWould you like to define your development dependencies interactively? (yes/no)\u001b[39m [\u001b[32myes\u001b[39m] no\n",
            "\u001b[34mGenerated file\u001b[39m\n",
            "\n",
            "[tool.poetry]\n",
            "name = \"test-poetry\"\n",
            "version = \"0.1.0\"\n",
            "description = \"\"\n",
            "authors = [\"Elise\"]\n",
            "readme = \"README.md\"\n",
            "packages = [{include = \"test_poetry\"}]\n",
            "\n",
            "[tool.poetry.dependencies]\n",
            "python = \"^3.8\"\n",
            "\n",
            "\n",
            "[build-system]\n",
            "requires = [\"poetry-core\"]\n",
            "build-backend = \"poetry.core.masonry.api\"\n",
            "\n",
            "\n",
            "\u001b[36mDo you confirm generation? (yes/no)\u001b[39m [\u001b[32myes\u001b[39m] yes\n"
          ]
        }
      ]
    },
    {
      "cell_type": "markdown",
      "source": [
        "*pyproject.toml* is created."
      ],
      "metadata": {
        "id": "TJIki3oDDpNU"
      }
    },
    {
      "cell_type": "markdown",
      "source": [
        "### 1.3 Add a new package\n",
        "\n",
        "Suppose you want to add a new package, for example `torch`.\n",
        "\n",
        "According to poetry's documentation, to install a new package, we need to run `poetry add <package>`. Running this command with modify *pyproject.toml* automatically with the new dependency. However, this only works on your local computer. \n",
        "\n",
        "On Colab, we need add the new dependency by hand in *pyproject.toml*. Still, to know which version of the dependency to install, we run `poetry add <package>`:"
      ],
      "metadata": {
        "id": "ADDCaj1FCnRe"
      }
    },
    {
      "cell_type": "code",
      "source": [
        "!poetry add torch"
      ],
      "metadata": {
        "colab": {
          "base_uri": "https://localhost:8080/"
        },
        "id": "Cf_eYBWEhwP5",
        "outputId": "85bc53e3-f656-4203-c8ce-1c875363b9a3"
      },
      "execution_count": 7,
      "outputs": [
        {
          "output_type": "stream",
          "name": "stdout",
          "text": [
            "Creating virtualenv \u001b[36mtest-poetry-t-T1QXJL-py3.8\u001b[39m in /root/.cache/pypoetry/virtualenvs\n",
            "Using version \u001b[39;1m^1.13.1\u001b[39;22m for \u001b[36mtorch\u001b[39m\n",
            "\n",
            "\u001b[34mUpdating dependencies\u001b[39m\n",
            "\u001b[2K\u001b[34mResolving dependencies...\u001b[39m \u001b[39;2m(0.3s)\u001b[39;22m\n",
            "\n",
            "\u001b[34mWriting lock file\u001b[39m\n",
            "\n",
            "\u001b[39;1mPackage operations\u001b[39;22m: \u001b[34m6\u001b[39m installs, \u001b[34m1\u001b[39m update, \u001b[34m0\u001b[39m removals\n",
            "\n"
          ]
        }
      ]
    },
    {
      "cell_type": "markdown",
      "source": [
        "3 points:\n",
        "- Since we ran this command for the first time, a virtual environment is created. Here called *test-poetry-t-T1QXJL-py3.8*.\n",
        "- The version for torch is indicated, so let's add `torch = \"^1.13.1\"` in *pyproject.toml* `[tool.poetry.dependencies]` section.\n",
        "- The *poetry.lock* file is created."
      ],
      "metadata": {
        "id": "WgCw1nxtHEQk"
      }
    },
    {
      "cell_type": "markdown",
      "source": [
        "Let's save the virtual env name and python version in global variables."
      ],
      "metadata": {
        "id": "zv-bkprBHdMN"
      }
    },
    {
      "cell_type": "code",
      "source": [
        "ENV_NAME = \"test-poetry-t-T1QXJL-py3.8\"\n",
        "PYTHON_VERSION = \"python3.8\""
      ],
      "metadata": {
        "id": "Gm7SuPrYLIVG"
      },
      "execution_count": 8,
      "outputs": []
    },
    {
      "cell_type": "markdown",
      "source": [
        "Let's see the packages installed in the virtual environment."
      ],
      "metadata": {
        "id": "PUp-tfOBHjCu"
      }
    },
    {
      "cell_type": "code",
      "source": [
        "!ls \"../../../../root/.cache/pypoetry/virtualenvs/{ENV_NAME}/lib/{PYTHON_VERSION}/site-packages\""
      ],
      "metadata": {
        "colab": {
          "base_uri": "https://localhost:8080/"
        },
        "id": "jAkvv7rTof4Q",
        "outputId": "4bd9aa7c-df06-43bc-e23c-ee98cc28e2be"
      },
      "execution_count": 9,
      "outputs": [
        {
          "output_type": "stream",
          "name": "stdout",
          "text": [
            "_distutils_hack\t\t  pkg_resources\t\t\t_virtualenv.pth\n",
            "distutils-precedence.pth  __pycache__\t\t\t_virtualenv.py\n",
            "pip\t\t\t  setuptools\t\t\twheel\n",
            "pip-22.3.1.dist-info\t  setuptools-65.6.3.dist-info\twheel-0.38.4.dist-info\n",
            "pip-22.3.1.virtualenv\t  setuptools-65.6.3.virtualenv\twheel-0.38.4.virtualenv\n"
          ]
        }
      ]
    },
    {
      "cell_type": "markdown",
      "source": [
        "`torch` was not installed. So let's run `poetry install --no-ansi`."
      ],
      "metadata": {
        "id": "m5mponbGEz-K"
      }
    },
    {
      "cell_type": "code",
      "source": [
        "!poetry install --no-ansi"
      ],
      "metadata": {
        "colab": {
          "base_uri": "https://localhost:8080/"
        },
        "id": "b1JDo_sR_ti9",
        "outputId": "cf92fbc7-7ed9-4c63-c063-4caba453ba2c"
      },
      "execution_count": 11,
      "outputs": [
        {
          "output_type": "stream",
          "name": "stdout",
          "text": [
            "Installing dependencies from lock file\n",
            "\n",
            "Package operations: 6 installs, 1 update, 0 removals\n",
            "\n",
            "  • Updating setuptools (65.6.3 -> 67.0.0)\n",
            "  • Installing nvidia-cublas-cu11 (11.10.3.66)\n",
            "  • Installing nvidia-cuda-nvrtc-cu11 (11.7.99)\n",
            "  • Installing nvidia-cuda-runtime-cu11 (11.7.99)\n",
            "  • Installing nvidia-cudnn-cu11 (8.5.0.96)\n",
            "  • Installing typing-extensions (4.4.0)\n",
            "tcmalloc: large alloc 1114284032 bytes == 0x3fec2000 @  0x7f347933d680 0x7f347935dbdd 0x7f347716c26f 0x7f347717c782 0x7f347717c324 0x7f347717c324 0x7f3477176d74 0x7f347717752e 0x504866 0x56bbe1 0x569d8a 0x5f60c3 0x56cc92 0x569d8a 0x5f60c3 0x56bbe1 0x569d8a 0x5f60c3 0x56bbe1 0x569d8a 0x5f60c3 0x50b32c 0x5f6b7b 0x66731d 0x5f6706 0x571143 0x50b22e 0x570b82 0x569d8a 0x50b3a0 0x570b82\n",
            "  • Installing torch (1.13.1)\n",
            "tcmalloc: large alloc 1774821376 bytes == 0x8256c000 @  0x7f347933d680 0x7f347935dbdd 0x7f347716c26f 0x7f347717c782 0x7f347717c324 0x7f347717c324 0x7f3477176d74 0x7f347717752e 0x504866 0x56bbe1 0x569d8a 0x5f60c3 0x56cc92 0x569d8a 0x5f60c3 0x56bbe1 0x569d8a 0x5f60c3 0x56bbe1 0x569d8a 0x5f60c3 0x50b32c 0x5f6b7b 0x66731d 0x5f6706 0x571143 0x50b22e 0x570b82 0x569d8a 0x50b3a0 0x570b82\n",
            "\n",
            "/content/gdrive/MyDrive/test-poetry/test_poetry does not contain any element\n"
          ]
        }
      ]
    },
    {
      "cell_type": "markdown",
      "source": [
        "Let's check if the packages were installed:"
      ],
      "metadata": {
        "id": "dXF4_YoeE54I"
      }
    },
    {
      "cell_type": "code",
      "source": [
        "!ls \"../../../../root/.cache/pypoetry/virtualenvs/{ENV_NAME}/lib/{PYTHON_VERSION}/site-packages\""
      ],
      "metadata": {
        "colab": {
          "base_uri": "https://localhost:8080/"
        },
        "id": "RKBHF_R4qNoc",
        "outputId": "bc3c60c3-8baf-4fc4-cd78-43dca003d07c"
      },
      "execution_count": 12,
      "outputs": [
        {
          "output_type": "stream",
          "name": "stdout",
          "text": [
            "_distutils_hack\t\t\t\t    setuptools\n",
            "distutils-precedence.pth\t\t    setuptools-67.0.0.dist-info\n",
            "functorch\t\t\t\t    torch\n",
            "nvidia\t\t\t\t\t    torch-1.13.1.dist-info\n",
            "nvidia_cublas_cu11-11.10.3.66.dist-info     torchgen\n",
            "nvidia_cuda_nvrtc_cu11-11.7.99.dist-info    typing_extensions-4.4.0.dist-info\n",
            "nvidia_cuda_runtime_cu11-11.7.99.dist-info  typing_extensions.py\n",
            "nvidia_cudnn_cu11-8.5.0.96.dist-info\t    _virtualenv.pth\n",
            "pip\t\t\t\t\t    _virtualenv.py\n",
            "pip-22.3.1.dist-info\t\t\t    wheel\n",
            "pip-22.3.1.virtualenv\t\t\t    wheel-0.38.4.dist-info\n",
            "pkg_resources\t\t\t\t    wheel-0.38.4.virtualenv\n",
            "__pycache__\n"
          ]
        }
      ]
    },
    {
      "cell_type": "markdown",
      "source": [
        "### 1.4 Run project\n",
        "\n",
        "Now, let's add `poetry` virtual environment to python path so that all installed dependencies can be found by the python interpreter."
      ],
      "metadata": {
        "id": "UUvTMpuwFzuu"
      }
    },
    {
      "cell_type": "code",
      "source": [
        "import sys\n",
        "sys.path.append(\"/root/.cache/pypoetry/virtualenvs/{ENV_NAME}/lib/{PYTHON_VERSION}/site-packages\")"
      ],
      "metadata": {
        "id": "M1lhPZsOqpE3"
      },
      "execution_count": 13,
      "outputs": []
    },
    {
      "cell_type": "code",
      "source": [
        "import torch\n",
        "print(torch.__version__)"
      ],
      "metadata": {
        "colab": {
          "base_uri": "https://localhost:8080/"
        },
        "id": "yZ0VtLNKGNnk",
        "outputId": "266e85b4-7f8f-4a52-f7ba-19745d451b5c"
      },
      "execution_count": 14,
      "outputs": [
        {
          "output_type": "stream",
          "name": "stdout",
          "text": [
            "1.13.1+cu116\n"
          ]
        }
      ]
    },
    {
      "cell_type": "markdown",
      "source": [
        "Colab has now `torch` installed from `poetry` project."
      ],
      "metadata": {
        "id": "9Cy-DgoBINoy"
      }
    },
    {
      "cell_type": "markdown",
      "source": [
        "## 2. Cloning a `poetry` project\n",
        "---\n",
        "\n",
        "Suppose you need to clone a Github repo with `poetry` dependencies manager."
      ],
      "metadata": {
        "id": "oZU9d4ETIFwB"
      }
    },
    {
      "cell_type": "code",
      "source": [
        "# Move in your Drive\n",
        "%cd /content/gdrive/MyDrive/"
      ],
      "metadata": {
        "colab": {
          "base_uri": "https://localhost:8080/"
        },
        "id": "I39oqKszII-K",
        "outputId": "a8d6ceb8-4e8d-491d-bc8f-4f7a5eb90c7b"
      },
      "execution_count": 2,
      "outputs": [
        {
          "output_type": "stream",
          "name": "stdout",
          "text": [
            "/content/gdrive/MyDrive\n"
          ]
        }
      ]
    },
    {
      "cell_type": "markdown",
      "source": [
        "### 2.1 Clone the repository"
      ],
      "metadata": {
        "id": "BmLg5JtGMs1x"
      }
    },
    {
      "cell_type": "code",
      "source": [
        "# Clone this repository\n",
        "!git clone https://github.com/elise-chin-adway/poetry-and-colab.git"
      ],
      "metadata": {
        "colab": {
          "base_uri": "https://localhost:8080/"
        },
        "id": "iEVJ0W_NKnDp",
        "outputId": "a6f8e58e-03c2-42c2-d4aa-23f9a629101b"
      },
      "execution_count": 3,
      "outputs": [
        {
          "output_type": "stream",
          "name": "stdout",
          "text": [
            "Cloning into 'poetry-and-colab'...\n",
            "remote: Enumerating objects: 10, done.\u001b[K\n",
            "remote: Counting objects: 100% (10/10), done.\u001b[K\n",
            "remote: Compressing objects: 100% (9/9), done.\u001b[K\n",
            "remote: Total 10 (delta 2), reused 0 (delta 0), pack-reused 0\u001b[K\n",
            "Unpacking objects: 100% (10/10), 5.00 KiB | 46.00 KiB/s, done.\n"
          ]
        }
      ]
    },
    {
      "cell_type": "code",
      "source": [
        "%cd poetry-and-colab"
      ],
      "metadata": {
        "colab": {
          "base_uri": "https://localhost:8080/"
        },
        "id": "NBawwY5YMx4A",
        "outputId": "6980b0a3-44dc-4b36-c28c-e0a82e3d270f"
      },
      "execution_count": 4,
      "outputs": [
        {
          "output_type": "stream",
          "name": "stdout",
          "text": [
            "/content/gdrive/MyDrive/poetry-and-colab\n"
          ]
        }
      ]
    },
    {
      "cell_type": "markdown",
      "source": [
        "### 2.2 Install poetry"
      ],
      "metadata": {
        "id": "8_p102quM4pX"
      }
    },
    {
      "cell_type": "code",
      "source": [
        "# Install poetry from pip\n",
        "!pip install poetry"
      ],
      "metadata": {
        "id": "jR3sw95gM_Do"
      },
      "execution_count": null,
      "outputs": []
    },
    {
      "cell_type": "code",
      "source": [
        "# Configure poetry not to create virtual environments in the project folder\n",
        "!poetry config virtualenvs.in-project false"
      ],
      "metadata": {
        "id": "a6UgmndbNB-u"
      },
      "execution_count": 6,
      "outputs": []
    },
    {
      "cell_type": "code",
      "source": [
        "!poetry install --no-ansi"
      ],
      "metadata": {
        "colab": {
          "base_uri": "https://localhost:8080/"
        },
        "id": "KtGPa3pUNH-X",
        "outputId": "dc756735-387a-41e7-d5ae-2dbb97ae0c6a"
      },
      "execution_count": 7,
      "outputs": [
        {
          "output_type": "stream",
          "name": "stdout",
          "text": [
            "Creating virtualenv poetry-and-colab-8lbdsoHM-py3.8 in /root/.cache/pypoetry/virtualenvs\n",
            "Installing dependencies from lock file\n",
            "\n",
            "Package operations: 6 installs, 1 update, 0 removals\n",
            "\n",
            "  • Updating setuptools (65.6.3 -> 67.0.0)\n",
            "  • Installing nvidia-cublas-cu11 (11.10.3.66)\n",
            "  • Installing nvidia-cuda-nvrtc-cu11 (11.7.99)\n",
            "  • Installing nvidia-cuda-runtime-cu11 (11.7.99)\n",
            "  • Installing nvidia-cudnn-cu11 (8.5.0.96)\n",
            "  • Installing typing-extensions (4.4.0)\n",
            "tcmalloc: large alloc 1114284032 bytes == 0x3ff62000 @  0x7f9555e05680 0x7f9555e25bdd 0x7f9553c3426f 0x7f9553c44782 0x7f9553c44324 0x7f9553c44324 0x7f9553c3ed74 0x7f9553c3f52e 0x504866 0x56bbe1 0x569d8a 0x5f60c3 0x56cc92 0x569d8a 0x5f60c3 0x56bbe1 0x569d8a 0x5f60c3 0x56bbe1 0x569d8a 0x5f60c3 0x50b32c 0x5f6b7b 0x66731d 0x5f6706 0x571143 0x50b22e 0x570b82 0x569d8a 0x50b3a0 0x570b82\n",
            "  • Installing torch (1.13.1)\n",
            "tcmalloc: large alloc 1774821376 bytes == 0x8260c000 @  0x7f9555e05680 0x7f9555e25bdd 0x7f9553c3426f 0x7f9553c44782 0x7f9553c44324 0x7f9553c44324 0x7f9553c3ed74 0x7f9553c3f52e 0x504866 0x56bbe1 0x569d8a 0x5f60c3 0x56cc92 0x569d8a 0x5f60c3 0x56bbe1 0x569d8a 0x5f60c3 0x56bbe1 0x569d8a 0x5f60c3 0x50b32c 0x5f6b7b 0x66731d 0x5f6706 0x571143 0x50b22e 0x570b82 0x569d8a 0x50b3a0 0x570b82\n",
            "\n",
            "/content/gdrive/MyDrive/poetry-and-colab/poetry_and_colab does not contain any element\n"
          ]
        }
      ]
    },
    {
      "cell_type": "markdown",
      "source": [
        "Then to add a new package and run a project, it is the same steps as 1.3 and 1.4."
      ],
      "metadata": {
        "id": "9LAiFqSMNP9X"
      }
    },
    {
      "cell_type": "code",
      "source": [],
      "metadata": {
        "id": "ZMo7MOtNNI0e"
      },
      "execution_count": null,
      "outputs": []
    }
  ]
}